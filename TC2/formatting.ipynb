{
 "cells": [
  {
   "cell_type": "code",
   "execution_count": 13,
   "id": "26893c4e",
   "metadata": {},
   "outputs": [],
   "source": [
    "dataset = 'TC2-5'\n",
    "did = 'tc15'"
   ]
  },
  {
   "cell_type": "code",
   "execution_count": 14,
   "id": "7c3d0dfe",
   "metadata": {},
   "outputs": [],
   "source": [
    "network_file = f'./{dataset}/{did}.dat'\n",
    "\n",
    "network_list = []\n",
    "node_list = []\n",
    "\n",
    "with open(network_file, 'r') as file:\n",
    "    for line in file:\n",
    "        n1, n2 = line.strip().split()\n",
    "        network_list.append([int(n1), int(n2)])\n",
    "        node_list.append(int(n1))\n",
    "        \n",
    "print(network_list)"
   ]
  },
  {
   "cell_type": "code",
   "execution_count": 15,
   "id": "0d0122fa",
   "metadata": {},
   "outputs": [],
   "source": [
    "node_list = list(set(node_list)) \n",
    "node_list.sort()"
   ]
  },
  {
   "cell_type": "code",
   "execution_count": 16,
   "id": "081c4345",
   "metadata": {},
   "outputs": [],
   "source": [
    "import random\n",
    "\n",
    "community_list = []\n",
    "\n",
    "for node in node_list:\n",
    "    community_list.append([node, random.randint(1, 10)])"
   ]
  },
  {
   "cell_type": "code",
   "execution_count": 17,
   "id": "df0e6e11",
   "metadata": {},
   "outputs": [],
   "source": [
    "prompt = []\n",
    "\n",
    "for connect in network_list:\n",
    "    sample = {\"task\": \"TC\", \"input\": f\"Node {connect[0]} and Node {connect[1]} have a social connection\", \"label\": str(community_list[connect[0] - 1][1])}\n",
    "    prompt.append(sample)"
   ]
  },
  {
   "cell_type": "code",
   "execution_count": 18,
   "id": "4db4026e",
   "metadata": {},
   "outputs": [],
   "source": [
    "import json\n",
    "\n",
    "with open(f'./{dataset}/sentence.jsonl', 'w') as f:\n",
    "    for item in prompt:\n",
    "        json.dump(item, f)\n",
    "        f.write('\\n')"
   ]
  },
  {
   "cell_type": "code",
   "execution_count": null,
   "id": "0c4f9de0",
   "metadata": {},
   "outputs": [],
   "source": []
  },
  {
   "cell_type": "code",
   "execution_count": null,
   "id": "70253e49",
   "metadata": {},
   "outputs": [],
   "source": []
  }
 ],
 "metadata": {
  "kernelspec": {
   "display_name": "Python 3 (ipykernel)",
   "language": "python",
   "name": "python3"
  },
  "language_info": {
   "codemirror_mode": {
    "name": "ipython",
    "version": 3
   },
   "file_extension": ".py",
   "mimetype": "text/x-python",
   "name": "python",
   "nbconvert_exporter": "python",
   "pygments_lexer": "ipython3",
   "version": "3.9.16"
  }
 },
 "nbformat": 4,
 "nbformat_minor": 5
}
