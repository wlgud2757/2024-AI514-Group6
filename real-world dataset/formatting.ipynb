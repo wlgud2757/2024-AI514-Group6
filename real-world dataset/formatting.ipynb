{
 "cells": [
  {
   "cell_type": "code",
   "execution_count": 31,
   "id": "26893c4e",
   "metadata": {},
   "outputs": [],
   "source": [
    "# dolphin / football / karate / mexican / polbooks / railway / strike\n",
    "dataset = 'strike'"
   ]
  },
  {
   "cell_type": "code",
   "execution_count": 32,
   "id": "7c3d0dfe",
   "metadata": {},
   "outputs": [
    {
     "name": "stdout",
     "output_type": "stream",
     "text": [
      "[[1, 2], [2, 3], [2, 5], [2, 6], [3, 4], [3, 9], [4, 9], [5, 6], [5, 9], [6, 7], [6, 8], [6, 9], [7, 8], [7, 15], [8, 9], [9, 10], [9, 14], [10, 11], [10, 12], [10, 13], [11, 12], [11, 13], [12, 13], [14, 15], [14, 16], [14, 17], [14, 19], [14, 22], [16, 21], [17, 18], [18, 19], [18, 20], [19, 20], [19, 22], [20, 21], [22, 23], [22, 24], [23, 24]]\n"
     ]
    }
   ],
   "source": [
    "network_file = f'./{dataset}/network.dat'\n",
    "\n",
    "network_list = []\n",
    "\n",
    "with open(network_file, 'r') as file:\n",
    "    for line in file:\n",
    "        n1, n2 = line.strip().split()\n",
    "        network_list.append([int(n1), int(n2)])\n",
    "\n",
    "print(network_list)"
   ]
  },
  {
   "cell_type": "code",
   "execution_count": 33,
   "id": "059c241b",
   "metadata": {},
   "outputs": [
    {
     "name": "stdout",
     "output_type": "stream",
     "text": [
      "[[1, 2], [2, 2], [3, 2], [4, 2], [5, 2], [6, 2], [7, 2], [8, 2], [9, 2], [10, 1], [11, 1], [12, 1], [13, 1], [14, 3], [15, 3], [16, 3], [17, 3], [18, 3], [19, 3], [20, 3], [21, 3], [22, 3], [23, 3], [24, 3]]\n"
     ]
    }
   ],
   "source": [
    "community_file = f'./{dataset}/community.dat'\n",
    "\n",
    "community_list = []\n",
    "\n",
    "with open(community_file, 'r') as file:\n",
    "    for line in file:\n",
    "        n, c = line.strip().split()\n",
    "        community_list.append([int(n), int(c)])\n",
    "\n",
    "print(community_list)"
   ]
  },
  {
   "cell_type": "code",
   "execution_count": 34,
   "id": "df0e6e11",
   "metadata": {},
   "outputs": [],
   "source": [
    "prompt = []\n",
    "\n",
    "# dolphin\n",
    "for connect in network_list:\n",
    "    if dataset == 'dolphin':\n",
    "        sample = {\"task\": \"dolphin\", \"input\": f\"Dolphin {connect[0]} and Dolphin {connect[1]} frequently associate with each other\", \"label\": str(community_list[connect[0] - 1][1])}\n",
    "    elif dataset == 'football':\n",
    "        sample = {\"task\": \"football\", \"input\": f\"Team {connect[0]} and Team {connect[1]} played a game against each other\", \"label\": str(community_list[connect[0] - 1][1])}\n",
    "    elif dataset == 'karate':\n",
    "        sample = {\"task\": \"karate\", \"input\": f\"Member {connect[0]} and Member {connect[1]} are friends\", \"label\": str(community_list[connect[0] - 1][1])}\n",
    "    elif dataset == 'mexican':\n",
    "        sample = {\"task\": \"mexican\", \"input\": f\"Person {connect[0]} and Person {connect[1]} have a relationship\", \"label\": str(community_list[connect[0] - 1][1])}\n",
    "    elif dataset == 'polbooks':\n",
    "        sample = {\"task\": \"polbooks\", \"input\": f\"Book {connect[0]} and Book {connect[1]} are frequently co-purchased together\", \"label\": str(community_list[connect[0] - 1][1])}\n",
    "    elif dataset == 'railway':\n",
    "        sample = {\"task\": \"railway\", \"input\": f\"Station {connect[0]} and Station {connect[1]} are directly connected by a railway line\", \"label\": str(community_list[connect[0] - 1][1])}\n",
    "    elif dataset == 'strike':\n",
    "        sample = {\"task\": \"strike\", \"input\": f\"Entity {connect[0]} and Entity {connect[1]} are connected, indicating a collaborative action or interaction\", \"label\": str(community_list[connect[0] - 1][1])}\n",
    "\n",
    "    prompt.append(sample)"
   ]
  },
  {
   "cell_type": "code",
   "execution_count": 35,
   "id": "4db4026e",
   "metadata": {},
   "outputs": [],
   "source": [
    "import json\n",
    "\n",
    "with open(f'./{dataset}/sentence.jsonl', 'w') as f:\n",
    "    for item in prompt:\n",
    "        json.dump(item, f)\n",
    "        f.write('\\n')"
   ]
  },
  {
   "cell_type": "code",
   "execution_count": null,
   "id": "0c4f9de0",
   "metadata": {},
   "outputs": [],
   "source": []
  }
 ],
 "metadata": {
  "kernelspec": {
   "display_name": "Python 3 (ipykernel)",
   "language": "python",
   "name": "python3"
  },
  "language_info": {
   "codemirror_mode": {
    "name": "ipython",
    "version": 3
   },
   "file_extension": ".py",
   "mimetype": "text/x-python",
   "name": "python",
   "nbconvert_exporter": "python",
   "pygments_lexer": "ipython3",
   "version": "3.9.16"
  }
 },
 "nbformat": 4,
 "nbformat_minor": 5
}
