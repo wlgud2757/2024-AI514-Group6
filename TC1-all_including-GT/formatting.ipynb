{
 "cells": [
  {
   "cell_type": "code",
   "execution_count": null,
   "id": "26893c4e",
   "metadata": {},
   "outputs": [],
   "source": [
    "dataset = 'TC1-10'\n",
    "did = dataset.replace('TC', '')"
   ]
  },
  {
   "cell_type": "code",
   "execution_count": null,
   "id": "7c3d0dfe",
   "metadata": {},
   "outputs": [],
   "source": [
    "network_file = f'./{dataset}/{did}.dat'\n",
    "\n",
    "network_list = []\n",
    "\n",
    "with open(network_file, 'r') as file:\n",
    "    for line in file:\n",
    "        n1, n2 = line.strip().split()\n",
    "        network_list.append([int(n1), int(n2)])\n",
    "\n",
    "print(network_list)"
   ]
  },
  {
   "cell_type": "code",
   "execution_count": null,
   "id": "059c241b",
   "metadata": {},
   "outputs": [],
   "source": [
    "community_file = f'./{dataset}/{did}-c.dat'\n",
    "\n",
    "community_list = []\n",
    "\n",
    "with open(community_file, 'r') as file:\n",
    "    for line in file:\n",
    "        n, c = line.strip().split()\n",
    "        community_list.append([int(n), int(c)])\n",
    "\n",
    "print(community_list)"
   ]
  },
  {
   "cell_type": "code",
   "execution_count": null,
   "id": "df0e6e11",
   "metadata": {},
   "outputs": [],
   "source": [
    "prompt = []\n",
    "\n",
    "# dolphin\n",
    "for connect in network_list:\n",
    "    sample = {\"task\": \"TC\", \"input\": f\"Node {connect[0]} and Node {connect[1]} have a social connection\", \"label\": str(community_list[connect[0] - 1][1])}\n",
    "    prompt.append(sample)"
   ]
  },
  {
   "cell_type": "code",
   "execution_count": null,
   "id": "4db4026e",
   "metadata": {},
   "outputs": [],
   "source": [
    "import json\n",
    "\n",
    "with open(f'./{dataset}/sentence.jsonl', 'w') as f:\n",
    "    for item in prompt:\n",
    "        json.dump(item, f)\n",
    "        f.write('\\n')"
   ]
  },
  {
   "cell_type": "code",
   "execution_count": null,
   "id": "0c4f9de0",
   "metadata": {},
   "outputs": [],
   "source": []
  },
  {
   "cell_type": "code",
   "execution_count": null,
   "id": "70253e49",
   "metadata": {},
   "outputs": [],
   "source": []
  }
 ],
 "metadata": {
  "kernelspec": {
   "display_name": "Python 3 (ipykernel)",
   "language": "python",
   "name": "python3"
  },
  "language_info": {
   "codemirror_mode": {
    "name": "ipython",
    "version": 3
   },
   "file_extension": ".py",
   "mimetype": "text/x-python",
   "name": "python",
   "nbconvert_exporter": "python",
   "pygments_lexer": "ipython3",
   "version": "3.9.16"
  }
 },
 "nbformat": 4,
 "nbformat_minor": 5
}
